{
 "cells": [
  {
   "cell_type": "markdown",
   "id": "806b6cca",
   "metadata": {},
   "source": [
    "### Data Set Information:\n",
    "\n",
    "The data is related with direct marketing campaigns of a Portuguese banking institution. The marketing campaigns were based on phone calls. Often, more than one contact to the same client was required, in order to access if the product (bank term deposit) would be ('yes') or not ('no') subscribed."
   ]
  },
  {
   "cell_type": "markdown",
   "id": "c547fccc",
   "metadata": {},
   "source": [
    "### Attribute Information:\n",
    "\n",
    "Input variables:\n",
    "#### bank client data:\n",
    "1 - age (numeric)\n",
    "\n",
    "2 - job : type of job (categorical: 'admin.','blue-collar','entrepreneur','housemaid','management','retired','self-employed','services','student','technician','unemployed','unknown')\n",
    "\n",
    "3 - marital : marital status (categorical: 'divorced','married','single','unknown'; note: 'divorced' means divorced or widowed)\n",
    "\n",
    "4 - education (categorical: 'basic.4y','basic.6y','basic.9y','high.school','illiterate','professional.course','university.degree','unknown')\n",
    "\n",
    "5 - default: has credit in default? (categorical: 'no','yes','unknown')\n",
    "\n",
    "6 - housing: has housing loan? (categorical: 'no','yes','unknown')\n",
    "\n",
    "7 - loan: has personal loan? (categorical: 'no','yes','unknown')\n",
    "\n",
    "#### related with the last contact of the current campaign:\n",
    "\n",
    "8 - contact: contact communication type (categorical: 'cellular','telephone')\n",
    "\n",
    "9 - month: last contact month of year (categorical: 'jan', 'feb', 'mar', ..., 'nov', 'dec')\n",
    "\n",
    "10 - day_of_week: last contact day of the week (categorical: 'mon','tue','wed','thu','fri')\n",
    "\n",
    "11 - duration: last contact duration, in seconds (numeric). Important note: this attribute highly affects the output target (e.g., if duration=0 then y='no'). Yet, the duration is not known before a call is performed. Also, after the end of the call y is obviously known. Thus, this input should only be included for benchmark purposes and should be discarded if the intention is to have a realistic predictive model.\n",
    "\n",
    "#### other attributes:\n",
    "\n",
    "12 - campaign: number of contacts performed during this campaign and for this client (numeric, includes last contact)\n",
    "\n",
    "13 - pdays: number of days that passed by after the client was last contacted from a previous campaign (numeric; 999 means client was not previously contacted)\n",
    "\n",
    "14 - previous: number of contacts performed before this campaign and for this client (numeric)\n",
    "\n",
    "15 - poutcome: outcome of the previous marketing campaign (categorical: 'failure','nonexistent','success')\n",
    "\n",
    "#### social and economic context attributes\n",
    "\n",
    "16 - emp.var.rate: employment variation rate - quarterly indicator (numeric)\n",
    "\n",
    "17 - cons.price.idx: consumer price index - monthly indicator (numeric)\n",
    "\n",
    "18 - cons.conf.idx: consumer confidence index - monthly indicator (numeric)\n",
    "\n",
    "19 - euribor3m: euribor 3 month rate - daily indicator (numeric)\n",
    "\n",
    "20 - nr.employed: number of employees - quarterly indicator (numeric)\n",
    "\n",
    "Output variable (desired target):\n",
    "21 - y - has the client subscribed a term deposit? (binary: 'yes','no')"
   ]
  },
  {
   "cell_type": "markdown",
   "id": "ff951032",
   "metadata": {},
   "source": [
    "### Task\n",
    "Use Neural Networks method compared with logistic regression method to predict if the client will subscribe (yes/no) a term deposit (variable y) to see what is the different result and the impact."
   ]
  },
  {
   "cell_type": "markdown",
   "id": "05281c2a",
   "metadata": {},
   "source": [
    "### Citation\n",
    "\n",
    "[Moro et al., 2014] S. Moro, P. Cortez and P. Rita. A Data-Driven Approach to Predict the Success of Bank Telemarketing. Decision Support Systems, In press, http://dx.doi.org/10.1016/j.dss.2014.03.001"
   ]
  },
  {
   "cell_type": "markdown",
   "id": "98f81836",
   "metadata": {},
   "source": [
    "### Problem Explain"
   ]
  },
  {
   "cell_type": "markdown",
   "id": "c62609d4",
   "metadata": {},
   "source": [
    "There are many clients to make the phone call to sell a term deposit. The full dataset has 41188 clients, but only 4640 client (11.27%) subscribed a term deposit. The telemarketers spent a lot of time to make phone calls but the success rate is only about 11.27%. That wasted a lot of money and time."
   ]
  },
  {
   "cell_type": "markdown",
   "id": "33a9ba37",
   "metadata": {},
   "source": [
    "###  Proposal Explain"
   ]
  },
  {
   "cell_type": "markdown",
   "id": "3cd1abe3",
   "metadata": {},
   "source": [
    "If we could predict which clients will subscribe a term deposit, the telemarketers could forcus on the clients who is predicted would subscribe a term deposit. That will increase the probobility of success for the marketing campaigns and in the mean time significantly reduce the phone call time. If on average the telemarketers will spend 5 minutes for one phone call, it will save about 3046 hours (36548*5/60)."
   ]
  },
  {
   "cell_type": "markdown",
   "id": "8fce86e4",
   "metadata": {},
   "source": [
    "### Analysis Results"
   ]
  },
  {
   "cell_type": "markdown",
   "id": "b4988730",
   "metadata": {},
   "source": [
    "1. If using logistic regression method to predict, for the full dataset, the accuracy is about 89.34% for validation dataset, 89.85% for training dataset. \n",
    "2. If using Neural Networks method to predict, for the full dataset, the accuracy is about 89.50% for validation dataset, 89.95% for training dataset. "
   ]
  },
  {
   "cell_type": "markdown",
   "id": "ce890f65",
   "metadata": {},
   "source": [
    "The Results of logistic regression method and Neural Networks method is almost the same."
   ]
  },
  {
   "cell_type": "markdown",
   "id": "1ed6b171",
   "metadata": {},
   "source": [
    "### Risk"
   ]
  },
  {
   "cell_type": "markdown",
   "id": "cdab9ea5",
   "metadata": {},
   "source": [
    "The risk for this project is if the prediction is wrong, it classifies a client who will buy a term deposit to a client who will not buy a term deposit, the bank will loose this client's subscription. "
   ]
  },
  {
   "cell_type": "markdown",
   "id": "99cab89d",
   "metadata": {},
   "source": [
    "### Solution for the Risk"
   ]
  },
  {
   "cell_type": "markdown",
   "id": "396c5e15",
   "metadata": {},
   "source": [
    "In order to reduce this risk, we could adjust the cut off value of the classification, to make the prodiction predict more clients will subscribe a term deposit."
   ]
  }
 ],
 "metadata": {
  "kernelspec": {
   "display_name": "Python 3 (ipykernel)",
   "language": "python",
   "name": "python3"
  },
  "language_info": {
   "codemirror_mode": {
    "name": "ipython",
    "version": 3
   },
   "file_extension": ".py",
   "mimetype": "text/x-python",
   "name": "python",
   "nbconvert_exporter": "python",
   "pygments_lexer": "ipython3",
   "version": "3.9.7"
  }
 },
 "nbformat": 4,
 "nbformat_minor": 5
}
