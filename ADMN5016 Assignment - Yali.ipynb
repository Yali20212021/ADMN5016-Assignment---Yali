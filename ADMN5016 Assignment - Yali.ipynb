{
 "cells": [
  {
   "cell_type": "code",
   "execution_count": 21,
   "id": "a4f8a00d",
   "metadata": {},
   "outputs": [
    {
     "name": "stdout",
     "output_type": "stream",
     "text": [
      "                                                      0\n",
      "0     age;\"job\";\"marital\";\"education\";\"default\";\"hou...\n",
      "1     30;\"blue-collar\";\"married\";\"basic.9y\";\"no\";\"ye...\n",
      "2     39;\"services\";\"single\";\"high.school\";\"no\";\"no\"...\n",
      "3     25;\"services\";\"married\";\"high.school\";\"no\";\"ye...\n",
      "4     38;\"services\";\"married\";\"basic.9y\";\"no\";\"unkno...\n",
      "...                                                 ...\n",
      "4115  30;\"admin.\";\"married\";\"basic.6y\";\"no\";\"yes\";\"y...\n",
      "4116  39;\"admin.\";\"married\";\"high.school\";\"no\";\"yes\"...\n",
      "4117  27;\"student\";\"single\";\"high.school\";\"no\";\"no\";...\n",
      "4118  58;\"admin.\";\"married\";\"high.school\";\"no\";\"no\";...\n",
      "4119  34;\"management\";\"single\";\"high.school\";\"no\";\"y...\n",
      "\n",
      "[4120 rows x 1 columns]\n"
     ]
    }
   ],
   "source": [
    "import pandas as pd\n",
    "#read with headers\n",
    "df=pd.read_csv(\"C:/Yali/My Class/ADMN5016/Assignment/bank-additional/bank-additional/bank-additional.csv\", header=None)\n",
    "#display\n",
    "print(df)"
   ]
  },
  {
   "cell_type": "code",
   "execution_count": 22,
   "id": "b4eeb723",
   "metadata": {},
   "outputs": [
    {
     "data": {
      "text/html": [
       "<div>\n",
       "<style scoped>\n",
       "    .dataframe tbody tr th:only-of-type {\n",
       "        vertical-align: middle;\n",
       "    }\n",
       "\n",
       "    .dataframe tbody tr th {\n",
       "        vertical-align: top;\n",
       "    }\n",
       "\n",
       "    .dataframe thead th {\n",
       "        text-align: right;\n",
       "    }\n",
       "</style>\n",
       "<table border=\"1\" class=\"dataframe\">\n",
       "  <thead>\n",
       "    <tr style=\"text-align: right;\">\n",
       "      <th></th>\n",
       "      <th>0</th>\n",
       "    </tr>\n",
       "  </thead>\n",
       "  <tbody>\n",
       "    <tr>\n",
       "      <th>0</th>\n",
       "      <td>age;\"job\";\"marital\";\"education\";\"default\";\"hou...</td>\n",
       "    </tr>\n",
       "    <tr>\n",
       "      <th>1</th>\n",
       "      <td>30;\"blue-collar\";\"married\";\"basic.9y\";\"no\";\"ye...</td>\n",
       "    </tr>\n",
       "    <tr>\n",
       "      <th>2</th>\n",
       "      <td>39;\"services\";\"single\";\"high.school\";\"no\";\"no\"...</td>\n",
       "    </tr>\n",
       "    <tr>\n",
       "      <th>3</th>\n",
       "      <td>25;\"services\";\"married\";\"high.school\";\"no\";\"ye...</td>\n",
       "    </tr>\n",
       "    <tr>\n",
       "      <th>4</th>\n",
       "      <td>38;\"services\";\"married\";\"basic.9y\";\"no\";\"unkno...</td>\n",
       "    </tr>\n",
       "  </tbody>\n",
       "</table>\n",
       "</div>"
      ],
      "text/plain": [
       "                                                   0\n",
       "0  age;\"job\";\"marital\";\"education\";\"default\";\"hou...\n",
       "1  30;\"blue-collar\";\"married\";\"basic.9y\";\"no\";\"ye...\n",
       "2  39;\"services\";\"single\";\"high.school\";\"no\";\"no\"...\n",
       "3  25;\"services\";\"married\";\"high.school\";\"no\";\"ye...\n",
       "4  38;\"services\";\"married\";\"basic.9y\";\"no\";\"unkno..."
      ]
     },
     "execution_count": 22,
     "metadata": {},
     "output_type": "execute_result"
    }
   ],
   "source": [
    "df.head(5)"
   ]
  },
  {
   "cell_type": "code",
   "execution_count": 23,
   "id": "42feb5b8",
   "metadata": {},
   "outputs": [
    {
     "name": "stdout",
     "output_type": "stream",
     "text": [
      "                                                      0\n",
      "0     age;\"job\";\"marital\";\"education\";\"default\";\"hou...\n",
      "1     30;\"blue-collar\";\"married\";\"basic.9y\";\"no\";\"ye...\n",
      "2     39;\"services\";\"single\";\"high.school\";\"no\";\"no\"...\n",
      "3     25;\"services\";\"married\";\"high.school\";\"no\";\"ye...\n",
      "4     38;\"services\";\"married\";\"basic.9y\";\"no\";\"unkno...\n",
      "...                                                 ...\n",
      "4115  30;\"admin.\";\"married\";\"basic.6y\";\"no\";\"yes\";\"y...\n",
      "4116  39;\"admin.\";\"married\";\"high.school\";\"no\";\"yes\"...\n",
      "4117  27;\"student\";\"single\";\"high.school\";\"no\";\"no\";...\n",
      "4118  58;\"admin.\";\"married\";\"high.school\";\"no\";\"no\";...\n",
      "4119  34;\"management\";\"single\";\"high.school\";\"no\";\"y...\n",
      "\n",
      "[4120 rows x 1 columns]\n"
     ]
    }
   ],
   "source": [
    "# Sorry I am trying to split the column, but have not been successful yet\n",
    "df[0].str.split(';',expand=True)\n",
    "print(df)"
   ]
  },
  {
   "cell_type": "code",
   "execution_count": null,
   "id": "1837574f",
   "metadata": {},
   "outputs": [],
   "source": []
  },
  {
   "cell_type": "code",
   "execution_count": null,
   "id": "6dd4a19c",
   "metadata": {},
   "outputs": [],
   "source": []
  }
 ],
 "metadata": {
  "kernelspec": {
   "display_name": "Python 3 (ipykernel)",
   "language": "python",
   "name": "python3"
  },
  "language_info": {
   "codemirror_mode": {
    "name": "ipython",
    "version": 3
   },
   "file_extension": ".py",
   "mimetype": "text/x-python",
   "name": "python",
   "nbconvert_exporter": "python",
   "pygments_lexer": "ipython3",
   "version": "3.9.7"
  }
 },
 "nbformat": 4,
 "nbformat_minor": 5
}
